{
 "cells": [
  {
   "cell_type": "markdown",
   "metadata": {},
   "source": [
    "### Задание:\n",
    "1. Выберите набор данных (датасет) для решения задачи классификации или регресии.\n",
    "2. В случае необходимости проведите удаление или заполнение пропусков и кодирование категориальных признаков.\n",
    "3. С использованием метода train_test_split разделите выборку на обучающую и тестовую.\n",
    "4. Обучите две ансамблевые модели. Оцените качество моделей с помощью одной из подходящих для задачи метрик. Сравните качество полученных моделей.\n",
    "5. Произведите для каждой модели подбор значений одного гиперпараметра. В зависимости от используемой библиотеки можно применять функцию GridSearchCV, использовать перебор параметров в цикле, или использовать другие методы.\n",
    "6. Повторите пункт 4 для найденных оптимальных значений гиперпараметров. Сравните качество полученных моделей с качеством моделей, полученных в пункте 4."
   ]
  },
  {
   "cell_type": "code",
   "execution_count": 20,
   "metadata": {},
   "outputs": [],
   "source": [
    "import numpy as np\n",
    "import pandas as pd\n",
    "from typing import Dict, Tuple\n",
    "from scipy import stats\n",
    "from IPython.display import Image\n",
    "from sklearn.datasets import load_iris, load_boston\n",
    "from sklearn.model_selection import cross_val_score\n",
    "from sklearn.model_selection import train_test_split\n",
    "from sklearn.neighbors import KNeighborsRegressor, KNeighborsClassifier\n",
    "from sklearn.model_selection import GridSearchCV, RandomizedSearchCV\n",
    "from sklearn.metrics import accuracy_score, balanced_accuracy_score\n",
    "from sklearn.metrics import precision_score, recall_score, f1_score, classification_report\n",
    "from sklearn.metrics import confusion_matrix\n",
    "from sklearn.tree import DecisionTreeClassifier, DecisionTreeRegressor\n",
    "from sklearn.ensemble import RandomForestClassifier, RandomForestRegressor\n",
    "from sklearn.ensemble import ExtraTreesClassifier, ExtraTreesRegressor\n",
    "from sklearn.ensemble import GradientBoostingClassifier, GradientBoostingRegressor\n",
    "from sklearn.ensemble import BaggingClassifier\n",
    "from sklearn.metrics import mean_absolute_error, mean_squared_error, mean_squared_log_error, median_absolute_error, r2_score \n",
    "from sklearn.metrics import roc_curve, roc_auc_score\n",
    "from sklearn.svm import SVC, NuSVC, LinearSVC, OneClassSVM, SVR, NuSVR, LinearSVR\n",
    "from sklearn.linear_model import LinearRegression\n",
    "from sklearn.preprocessing import LabelEncoder\n",
    "import seaborn as sns\n",
    "import matplotlib.pyplot as plt\n",
    "%matplotlib inline \n",
    "sns.set(style=\"ticks\")"
   ]
  },
  {
   "cell_type": "markdown",
   "metadata": {},
   "source": [
    "### 1 . Выберите набор данных (датасет) для решения задачи классификации или регресии."
   ]
  },
  {
   "cell_type": "code",
   "execution_count": 2,
   "metadata": {},
   "outputs": [],
   "source": [
    "# загружаем датасет\n",
    "data=pd.read_csv('DOW30.csv', sep=\",\")"
   ]
  },
  {
   "cell_type": "code",
   "execution_count": 5,
   "metadata": {},
   "outputs": [
    {
     "data": {
      "text/plain": [
       "(2448, 14)"
      ]
     },
     "execution_count": 5,
     "metadata": {},
     "output_type": "execute_result"
    }
   ],
   "source": [
    "# размер набора данных\n",
    "data.shape"
   ]
  },
  {
   "cell_type": "code",
   "execution_count": 6,
   "metadata": {},
   "outputs": [
    {
     "data": {
      "text/plain": [
       "Date             object\n",
       "LABEL             int64\n",
       "Open            float64\n",
       "High            float64\n",
       "Low             float64\n",
       "Close           float64\n",
       "Volume          float64\n",
       "InterestRate    float64\n",
       "ExchangeRate    float64\n",
       "VIX             float64\n",
       "Gold            float64\n",
       "Oil             float64\n",
       "TEDSpread       float64\n",
       "EFFR            float64\n",
       "dtype: object"
      ]
     },
     "execution_count": 6,
     "metadata": {},
     "output_type": "execute_result"
    }
   ],
   "source": [
    "# типы колонок\n",
    "data.dtypes"
   ]
  },
  {
   "cell_type": "code",
   "execution_count": 7,
   "metadata": {},
   "outputs": [
    {
     "data": {
      "text/plain": [
       "Date            0\n",
       "LABEL           0\n",
       "Open            0\n",
       "High            0\n",
       "Low             0\n",
       "Close           0\n",
       "Volume          0\n",
       "InterestRate    0\n",
       "ExchangeRate    0\n",
       "VIX             0\n",
       "Gold            0\n",
       "Oil             0\n",
       "TEDSpread       0\n",
       "EFFR            0\n",
       "dtype: int64"
      ]
     },
     "execution_count": 7,
     "metadata": {},
     "output_type": "execute_result"
    }
   ],
   "source": [
    "# проверим есть ли пропущенные значения\n",
    "data.isnull().sum()"
   ]
  },
  {
   "cell_type": "code",
   "execution_count": 8,
   "metadata": {},
   "outputs": [
    {
     "data": {
      "text/html": [
       "<div>\n",
       "<style scoped>\n",
       "    .dataframe tbody tr th:only-of-type {\n",
       "        vertical-align: middle;\n",
       "    }\n",
       "\n",
       "    .dataframe tbody tr th {\n",
       "        vertical-align: top;\n",
       "    }\n",
       "\n",
       "    .dataframe thead th {\n",
       "        text-align: right;\n",
       "    }\n",
       "</style>\n",
       "<table border=\"1\" class=\"dataframe\">\n",
       "  <thead>\n",
       "    <tr style=\"text-align: right;\">\n",
       "      <th></th>\n",
       "      <th>Date</th>\n",
       "      <th>LABEL</th>\n",
       "      <th>Open</th>\n",
       "      <th>High</th>\n",
       "      <th>Low</th>\n",
       "      <th>Close</th>\n",
       "      <th>Volume</th>\n",
       "      <th>InterestRate</th>\n",
       "      <th>ExchangeRate</th>\n",
       "      <th>VIX</th>\n",
       "      <th>Gold</th>\n",
       "      <th>Oil</th>\n",
       "      <th>TEDSpread</th>\n",
       "      <th>EFFR</th>\n",
       "    </tr>\n",
       "  </thead>\n",
       "  <tbody>\n",
       "    <tr>\n",
       "      <th>0</th>\n",
       "      <td>2008/4/1</td>\n",
       "      <td>0</td>\n",
       "      <td>12266.63965</td>\n",
       "      <td>12659.82031</td>\n",
       "      <td>12266.46973</td>\n",
       "      <td>12654.36035</td>\n",
       "      <td>295530000.0</td>\n",
       "      <td>1.77</td>\n",
       "      <td>1.5615</td>\n",
       "      <td>22.68</td>\n",
       "      <td>897.00</td>\n",
       "      <td>100.92</td>\n",
       "      <td>1.30</td>\n",
       "      <td>2.38</td>\n",
       "    </tr>\n",
       "    <tr>\n",
       "      <th>1</th>\n",
       "      <td>2008/4/2</td>\n",
       "      <td>1</td>\n",
       "      <td>12651.66992</td>\n",
       "      <td>12696.29004</td>\n",
       "      <td>12555.16992</td>\n",
       "      <td>12608.91992</td>\n",
       "      <td>232760000.0</td>\n",
       "      <td>1.72</td>\n",
       "      <td>1.5618</td>\n",
       "      <td>23.43</td>\n",
       "      <td>893.50</td>\n",
       "      <td>104.83</td>\n",
       "      <td>1.31</td>\n",
       "      <td>2.18</td>\n",
       "    </tr>\n",
       "    <tr>\n",
       "      <th>2</th>\n",
       "      <td>2008/4/3</td>\n",
       "      <td>0</td>\n",
       "      <td>12605.83008</td>\n",
       "      <td>12675.12012</td>\n",
       "      <td>12527.75000</td>\n",
       "      <td>12626.03027</td>\n",
       "      <td>183870000.0</td>\n",
       "      <td>1.70</td>\n",
       "      <td>1.5667</td>\n",
       "      <td>23.21</td>\n",
       "      <td>898.25</td>\n",
       "      <td>103.92</td>\n",
       "      <td>1.35</td>\n",
       "      <td>2.19</td>\n",
       "    </tr>\n",
       "    <tr>\n",
       "      <th>3</th>\n",
       "      <td>2008/4/4</td>\n",
       "      <td>1</td>\n",
       "      <td>12626.03027</td>\n",
       "      <td>12688.48047</td>\n",
       "      <td>12528.16016</td>\n",
       "      <td>12609.41992</td>\n",
       "      <td>181260000.0</td>\n",
       "      <td>1.67</td>\n",
       "      <td>1.5735</td>\n",
       "      <td>22.45</td>\n",
       "      <td>905.25</td>\n",
       "      <td>106.09</td>\n",
       "      <td>1.40</td>\n",
       "      <td>2.26</td>\n",
       "    </tr>\n",
       "    <tr>\n",
       "      <th>4</th>\n",
       "      <td>2008/4/7</td>\n",
       "      <td>0</td>\n",
       "      <td>12612.58984</td>\n",
       "      <td>12733.66016</td>\n",
       "      <td>12583.28027</td>\n",
       "      <td>12612.42969</td>\n",
       "      <td>198070000.0</td>\n",
       "      <td>1.62</td>\n",
       "      <td>1.5713</td>\n",
       "      <td>22.42</td>\n",
       "      <td>914.70</td>\n",
       "      <td>108.91</td>\n",
       "      <td>1.28</td>\n",
       "      <td>2.24</td>\n",
       "    </tr>\n",
       "  </tbody>\n",
       "</table>\n",
       "</div>"
      ],
      "text/plain": [
       "       Date  LABEL         Open         High          Low        Close  \\\n",
       "0  2008/4/1      0  12266.63965  12659.82031  12266.46973  12654.36035   \n",
       "1  2008/4/2      1  12651.66992  12696.29004  12555.16992  12608.91992   \n",
       "2  2008/4/3      0  12605.83008  12675.12012  12527.75000  12626.03027   \n",
       "3  2008/4/4      1  12626.03027  12688.48047  12528.16016  12609.41992   \n",
       "4  2008/4/7      0  12612.58984  12733.66016  12583.28027  12612.42969   \n",
       "\n",
       "        Volume  InterestRate  ExchangeRate    VIX    Gold     Oil  TEDSpread  \\\n",
       "0  295530000.0          1.77        1.5615  22.68  897.00  100.92       1.30   \n",
       "1  232760000.0          1.72        1.5618  23.43  893.50  104.83       1.31   \n",
       "2  183870000.0          1.70        1.5667  23.21  898.25  103.92       1.35   \n",
       "3  181260000.0          1.67        1.5735  22.45  905.25  106.09       1.40   \n",
       "4  198070000.0          1.62        1.5713  22.42  914.70  108.91       1.28   \n",
       "\n",
       "   EFFR  \n",
       "0  2.38  \n",
       "1  2.18  \n",
       "2  2.19  \n",
       "3  2.26  \n",
       "4  2.24  "
      ]
     },
     "execution_count": 8,
     "metadata": {},
     "output_type": "execute_result"
    }
   ],
   "source": [
    "data.head()"
   ]
  },
  {
   "cell_type": "markdown",
   "metadata": {},
   "source": [
    "### 2. В случае необходимости проведите удаление или заполнение пропусков и кодирование категориальных признаков."
   ]
  },
  {
   "cell_type": "code",
   "execution_count": 9,
   "metadata": {},
   "outputs": [],
   "source": [
    "le=LabelEncoder()\n",
    "le.fit(data.Date)\n",
    "data['Date']=le.transform(data.Date)"
   ]
  },
  {
   "cell_type": "code",
   "execution_count": 10,
   "metadata": {},
   "outputs": [
    {
     "data": {
      "text/plain": [
       "Date              int32\n",
       "LABEL             int64\n",
       "Open            float64\n",
       "High            float64\n",
       "Low             float64\n",
       "Close           float64\n",
       "Volume          float64\n",
       "InterestRate    float64\n",
       "ExchangeRate    float64\n",
       "VIX             float64\n",
       "Gold            float64\n",
       "Oil             float64\n",
       "TEDSpread       float64\n",
       "EFFR            float64\n",
       "dtype: object"
      ]
     },
     "execution_count": 10,
     "metadata": {},
     "output_type": "execute_result"
    }
   ],
   "source": [
    "# типы колонок\n",
    "data.dtypes"
   ]
  },
  {
   "cell_type": "markdown",
   "metadata": {},
   "source": [
    "### 3. С использованием метода train_test_split разделите выборку на обучающую и тестовую."
   ]
  },
  {
   "cell_type": "code",
   "execution_count": 11,
   "metadata": {},
   "outputs": [],
   "source": [
    "# Разделим выборку на обучающую и тестовую\n",
    "# X_train - обучающая выборка (матрица объект-признак)\n",
    "# y_train - обучающая выборка (вектор целевого признака)\n",
    "# X_test - тестовая выборка (матрица объект-признак)\n",
    "# y_test - тестовая выборка (вектор целевого признака)\n",
    "\n",
    "X_train, X_test, y_train, y_test = train_test_split(\n",
    "    data, data['LABEL'], test_size= 0.5, random_state= 1)"
   ]
  },
  {
   "cell_type": "code",
   "execution_count": 12,
   "metadata": {},
   "outputs": [
    {
     "data": {
      "text/plain": [
       "((1224, 14), (1224,))"
      ]
     },
     "execution_count": 12,
     "metadata": {},
     "output_type": "execute_result"
    }
   ],
   "source": [
    "# Размер обучающей выборки\n",
    "X_train.shape, y_train.shape"
   ]
  },
  {
   "cell_type": "code",
   "execution_count": 13,
   "metadata": {},
   "outputs": [
    {
     "data": {
      "text/plain": [
       "((1224, 14), (1224,))"
      ]
     },
     "execution_count": 13,
     "metadata": {},
     "output_type": "execute_result"
    }
   ],
   "source": [
    "# Размер тестовой выборки\n",
    "X_test.shape, y_test.shape"
   ]
  },
  {
   "cell_type": "markdown",
   "metadata": {},
   "source": [
    "### 4. Обучите две ансамблевые модели. Оцените качество моделей с помощью одной из подходящих для задачи метрик. Сравните качество полученных моделей."
   ]
  },
  {
   "cell_type": "code",
   "execution_count": 17,
   "metadata": {},
   "outputs": [],
   "source": [
    "# случайный лес (n_estimators - число деревьев)\n",
    "randomforest = RandomForestClassifier(n_estimators=1, max_depth=1, random_state=0).fit(X_train, y_train)"
   ]
  },
  {
   "cell_type": "code",
   "execution_count": 18,
   "metadata": {},
   "outputs": [],
   "source": [
    "age_randomforest = randomforest.predict(X_test)"
   ]
  },
  {
   "cell_type": "code",
   "execution_count": 19,
   "metadata": {},
   "outputs": [
    {
     "data": {
      "text/plain": [
       "(0.5343137254901961, 0.5343137254901961, 1.0)"
      ]
     },
     "execution_count": 19,
     "metadata": {},
     "output_type": "execute_result"
    }
   ],
   "source": [
    "# опять эти метрики\n",
    "accuracy_score(y_test, age_randomforest), \\\n",
    "precision_score(y_test, age_randomforest),  \\\n",
    "recall_score(y_test, age_randomforest)"
   ]
  },
  {
   "cell_type": "code",
   "execution_count": 16,
   "metadata": {},
   "outputs": [],
   "source": [
    "# градиентный бустинг\n",
    "gradient_boosting = GradientBoostingClassifier(n_estimators=5, max_depth=1, learning_rate=0.01).fit(X_train, y_train)"
   ]
  },
  {
   "cell_type": "code",
   "execution_count": 17,
   "metadata": {},
   "outputs": [],
   "source": [
    "age_gradient_boosting = gradient_boosting.predict(X_test)"
   ]
  },
  {
   "cell_type": "code",
   "execution_count": 18,
   "metadata": {},
   "outputs": [
    {
     "data": {
      "text/plain": [
       "(0.23684210526315788, 0.23684210526315788, 0.23684210526315788)"
      ]
     },
     "execution_count": 18,
     "metadata": {},
     "output_type": "execute_result"
    }
   ],
   "source": [
    "# опять эти метрики\n",
    "accuracy_score(y_test, age_gradient_boosting), \\\n",
    "precision_score(y_test, age_gradient_boosting, average='micro'),  \\\n",
    "recall_score(y_test, age_gradient_boosting, average='micro')"
   ]
  },
  {
   "cell_type": "markdown",
   "metadata": {},
   "source": [
    "### 5. Произведите для каждой модели подбор значений одного гиперпараметра. В зависимости от используемой библиотеки можно применять функцию GridSearchCV, использовать перебор параметров в цикле, или использовать другие методы."
   ]
  },
  {
   "cell_type": "code",
   "execution_count": 19,
   "metadata": {},
   "outputs": [
    {
     "name": "stderr",
     "output_type": "stream",
     "text": [
      "C:\\foruniver\\Anaconda3\\lib\\site-packages\\sklearn\\model_selection\\_split.py:652: Warning: The least populated class in y has only 1 members, which is too few. The minimum number of members in any class cannot be less than n_splits=3.\n",
      "  % (min_groups, self.n_splits)), Warning)\n",
      "C:\\foruniver\\Anaconda3\\lib\\site-packages\\sklearn\\model_selection\\_search.py:841: DeprecationWarning: The default of the `iid` parameter will change from True to False in version 0.22 and will be removed in 0.24. This will change numeric results when test-set sizes are unequal.\n",
      "  DeprecationWarning)\n"
     ]
    },
    {
     "data": {
      "text/plain": [
       "GridSearchCV(cv=3, error_score='raise-deprecating',\n",
       "       estimator=RandomForestClassifier(bootstrap=True, class_weight=None, criterion='gini',\n",
       "            max_depth=None, max_features='auto', max_leaf_nodes=None,\n",
       "            min_impurity_decrease=0.0, min_impurity_split=None,\n",
       "            min_samples_leaf=1, min_samples_split=2,\n",
       "            min_weight_fraction_leaf=0.0, n_estimators='warn', n_jobs=None,\n",
       "            oob_score=False, random_state=None, verbose=0,\n",
       "            warm_start=False),\n",
       "       fit_params=None, iid='warn', n_jobs=None,\n",
       "       param_grid={'n_estimators': [1, 3, 5, 7, 10], 'max_depth': [1, 3, 5, 7, 10], 'random_state': [0, 2, 4, 6, 8, 10]},\n",
       "       pre_dispatch='2*n_jobs', refit=True, return_train_score='warn',\n",
       "       scoring='accuracy', verbose=0)"
      ]
     },
     "execution_count": 19,
     "metadata": {},
     "output_type": "execute_result"
    }
   ],
   "source": [
    "# случайный лес (n_estimators - число деревьев)\n",
    "parameters_random_forest = {'n_estimators':[1, 3, 5, 7, 10], \n",
    "                            'max_depth':[1, 3, 5, 7, 10],\n",
    "                            'random_state':[0, 2, 4, 6, 8, 10]}\n",
    "best_random_forest = GridSearchCV(RandomForestClassifier(), parameters_random_forest, cv=3, scoring='accuracy')\n",
    "best_random_forest.fit(X_train, y_train)"
   ]
  },
  {
   "cell_type": "code",
   "execution_count": 20,
   "metadata": {},
   "outputs": [
    {
     "data": {
      "text/plain": [
       "{'max_depth': 7, 'n_estimators': 7, 'random_state': 8}"
      ]
     },
     "execution_count": 20,
     "metadata": {},
     "output_type": "execute_result"
    }
   ],
   "source": [
    "# Лучшее значение параметров\n",
    "best_random_forest.best_params_"
   ]
  },
  {
   "cell_type": "code",
   "execution_count": 22,
   "metadata": {},
   "outputs": [
    {
     "name": "stderr",
     "output_type": "stream",
     "text": [
      "C:\\foruniver\\Anaconda3\\lib\\site-packages\\sklearn\\model_selection\\_split.py:652: Warning: The least populated class in y has only 1 members, which is too few. The minimum number of members in any class cannot be less than n_splits=3.\n",
      "  % (min_groups, self.n_splits)), Warning)\n",
      "C:\\foruniver\\Anaconda3\\lib\\site-packages\\sklearn\\model_selection\\_search.py:841: DeprecationWarning: The default of the `iid` parameter will change from True to False in version 0.22 and will be removed in 0.24. This will change numeric results when test-set sizes are unequal.\n",
      "  DeprecationWarning)\n"
     ]
    },
    {
     "data": {
      "text/plain": [
       "GridSearchCV(cv=3, error_score='raise-deprecating',\n",
       "       estimator=GradientBoostingClassifier(criterion='friedman_mse', init=None,\n",
       "              learning_rate=0.1, loss='deviance', max_depth=3,\n",
       "              max_features=None, max_leaf_nodes=None,\n",
       "              min_impurity_decrease=0.0, min_impurity_split=None,\n",
       "              min_samples_leaf=1, min_sampl...      subsample=1.0, tol=0.0001, validation_fraction=0.1,\n",
       "              verbose=0, warm_start=False),\n",
       "       fit_params=None, iid='warn', n_jobs=None,\n",
       "       param_grid={'n_estimators': [1, 3, 5, 7, 10], 'max_depth': [1, 3, 5, 7, 10], 'learning_rate': [0.001, 0.0025, 0.005, 0.0075, 0.01, 0.025]},\n",
       "       pre_dispatch='2*n_jobs', refit=True, return_train_score='warn',\n",
       "       scoring='accuracy', verbose=0)"
      ]
     },
     "execution_count": 22,
     "metadata": {},
     "output_type": "execute_result"
    }
   ],
   "source": [
    "# градиентный бустинг\n",
    "parameters_gradient_boosting = {'n_estimators':[1, 3, 5, 7, 10], \n",
    "                            'max_depth':[1, 3, 5, 7, 10],\n",
    "                            'learning_rate':[0.001, 0.0025, 0.005, 0.0075, 0.01, 0.025]}\n",
    "best_gradient_boosting = GridSearchCV(GradientBoostingClassifier(), parameters_gradient_boosting, cv=3, scoring='accuracy')\n",
    "best_gradient_boosting.fit(X_train, y_train)"
   ]
  },
  {
   "cell_type": "code",
   "execution_count": 23,
   "metadata": {},
   "outputs": [
    {
     "data": {
      "text/plain": [
       "{'learning_rate': 0.005, 'max_depth': 3, 'n_estimators': 3}"
      ]
     },
     "execution_count": 23,
     "metadata": {},
     "output_type": "execute_result"
    }
   ],
   "source": [
    "# Лучшее значение параметров\n",
    "best_gradient_boosting.best_params_"
   ]
  },
  {
   "cell_type": "markdown",
   "metadata": {},
   "source": [
    "### 6. Повторите пункт 4 для найденных оптимальных значений гиперпараметров. Сравните качество полученных моделей с качеством моделей, полученных в пункте 4."
   ]
  },
  {
   "cell_type": "code",
   "execution_count": 24,
   "metadata": {},
   "outputs": [],
   "source": [
    "# случайный лес (n_estimators - число деревьев)\n",
    "randomforest2 = RandomForestClassifier(n_estimators=7, max_depth=7, random_state=8).fit(X_train, y_train)"
   ]
  },
  {
   "cell_type": "code",
   "execution_count": 25,
   "metadata": {},
   "outputs": [],
   "source": [
    "age_randomforest2 = randomforest.predict(X_test)"
   ]
  },
  {
   "cell_type": "code",
   "execution_count": 26,
   "metadata": {},
   "outputs": [
    {
     "data": {
      "text/plain": [
       "(0.05263157894736842, 0.05263157894736842, 0.05263157894736842)"
      ]
     },
     "execution_count": 26,
     "metadata": {},
     "output_type": "execute_result"
    }
   ],
   "source": [
    "# опять эти метрики\n",
    "accuracy_score(y_test, age_randomforest2), \\\n",
    "precision_score(y_test, age_randomforest2, average='micro'),  \\\n",
    "recall_score(y_test, age_randomforest2, average='micro')"
   ]
  },
  {
   "cell_type": "code",
   "execution_count": 27,
   "metadata": {},
   "outputs": [],
   "source": [
    "# градиентный бустинг\n",
    "gradient_boosting2 = GradientBoostingClassifier(n_estimators=5, max_depth=3, learning_rate=0.005).fit(X_train, y_train)"
   ]
  },
  {
   "cell_type": "code",
   "execution_count": 28,
   "metadata": {},
   "outputs": [],
   "source": [
    "age_gradient_boosting2 = gradient_boosting.predict(X_test)"
   ]
  },
  {
   "cell_type": "code",
   "execution_count": 29,
   "metadata": {},
   "outputs": [
    {
     "data": {
      "text/plain": [
       "(0.23684210526315788, 0.23684210526315788, 0.23684210526315788)"
      ]
     },
     "execution_count": 29,
     "metadata": {},
     "output_type": "execute_result"
    }
   ],
   "source": [
    "# опять эти метрики\n",
    "accuracy_score(y_test, age_gradient_boosting2), \\\n",
    "precision_score(y_test, age_gradient_boosting2, average='micro'),  \\\n",
    "recall_score(y_test, age_gradient_boosting2, average='micro')"
   ]
  },
  {
   "cell_type": "markdown",
   "metadata": {},
   "source": [
    "#### метрики: accuracy, precision, recall\n",
    "\n",
    "#### в пункте 4:\n",
    "\n",
    "случайный лес (n_estimators - число деревьев)\n",
    "- (0.05263157894736842, 0.05263157894736842, 0.05263157894736842)\n",
    "\n",
    "градиентный бустинг\n",
    "- (0.23684210526315788, 0.23684210526315788, 0.23684210526315788)\n",
    "\n",
    "#### в пункте 6:\n",
    "\n",
    "случайный лес (n_estimators - число деревьев) \n",
    "- {'max_depth': 7, 'n_estimators': 7, 'random_state': 8}\n",
    "- (0.05263157894736842, 0.05263157894736842, 0.05263157894736842)\n",
    "\n",
    "градиентный бустинг\n",
    "- {'learning_rate': 0.005, 'max_depth': 3, 'n_estimators': 3}\n",
    "- (0.23684210526315788, 0.23684210526315788, 0.23684210526315788)"
   ]
  }
 ],
 "metadata": {
  "kernelspec": {
   "display_name": "Python 3",
   "language": "python",
   "name": "python3"
  },
  "language_info": {
   "codemirror_mode": {
    "name": "ipython",
    "version": 3
   },
   "file_extension": ".py",
   "mimetype": "text/x-python",
   "name": "python",
   "nbconvert_exporter": "python",
   "pygments_lexer": "ipython3",
   "version": "3.7.1"
  }
 },
 "nbformat": 4,
 "nbformat_minor": 2
}
