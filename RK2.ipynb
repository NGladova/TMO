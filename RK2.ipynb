{
 "cells": [
  {
   "cell_type": "markdown",
   "metadata": {},
   "source": [
    "#### Гладова Анастасия, гр. ИУ5Ц-81Б (ИУ5-61)\n",
    "\n",
    "#### Рубежный контроль №2\n",
    "\n",
    "#### Вариант №2. Кластеризация данных.\n",
    "\n",
    "Данный вариант выполняется на основе материалов лекции.\n",
    "Необходимо решить задачу кластеризации на основе любого выбранного Вами датасета.\n",
    "Кластеризуйте данные с помощью трех различных алгоритмов кластеризации. Алгоритмы выбираются произвольным образом, рекомендуется использовать алгоритмы из лекции.\n",
    "Сравните качество кластеризации для трех алгоритмов с помощью следующих метрик качества кластеризации:\n",
    "- Adjusted Rand index\n",
    "- Adjusted Mutual Information\n",
    "- Homogeneity, completeness, V-measure\n",
    "- Коэффициент силуэта\n",
    "- Сделайте выводы о том, какой алгоритм осуществляет более качественную кластеризацию на Вашем наборе данных."
   ]
  },
  {
   "cell_type": "code",
   "execution_count": 57,
   "metadata": {},
   "outputs": [],
   "source": [
    "import numpy as np\n",
    "import pandas as pd\n",
    "from typing import Dict, Tuple\n",
    "from scipy import stats\n",
    "from IPython.display import Image\n",
    "from sklearn import cluster, datasets, mixture\n",
    "from sklearn.neighbors import kneighbors_graph\n",
    "from sklearn.preprocessing import StandardScaler\n",
    "from sklearn.metrics import adjusted_rand_score, adjusted_mutual_info_score \n",
    "from sklearn.metrics import homogeneity_completeness_v_measure, silhouette_score\n",
    "from itertools import cycle, islice\n",
    "from sklearn.preprocessing import LabelEncoder, MinMaxScaler\n",
    "import seaborn as sns\n",
    "import matplotlib.pyplot as plt\n",
    "%matplotlib inline \n",
    "sns.set(style=\"ticks\")"
   ]
  },
  {
   "cell_type": "code",
   "execution_count": 58,
   "metadata": {},
   "outputs": [],
   "source": [
    "#загружаем датасет\n",
    "data=pd.read_csv('DOW30.csv', sep=\",\")"
   ]
  },
  {
   "cell_type": "code",
   "execution_count": 59,
   "metadata": {},
   "outputs": [
    {
     "data": {
      "text/plain": [
       "Date            0\n",
       "LABEL           0\n",
       "Open            0\n",
       "High            0\n",
       "Low             0\n",
       "Close           0\n",
       "Volume          0\n",
       "InterestRate    0\n",
       "ExchangeRate    0\n",
       "VIX             0\n",
       "Gold            0\n",
       "Oil             0\n",
       "TEDSpread       0\n",
       "EFFR            0\n",
       "dtype: int64"
      ]
     },
     "execution_count": 59,
     "metadata": {},
     "output_type": "execute_result"
    }
   ],
   "source": [
    "# проверим есть ли пропущенные значения\n",
    "data.isnull().sum()"
   ]
  },
  {
   "cell_type": "code",
   "execution_count": 60,
   "metadata": {},
   "outputs": [
    {
     "data": {
      "text/plain": [
       "Date             object\n",
       "LABEL             int64\n",
       "Open            float64\n",
       "High            float64\n",
       "Low             float64\n",
       "Close           float64\n",
       "Volume          float64\n",
       "InterestRate    float64\n",
       "ExchangeRate    float64\n",
       "VIX             float64\n",
       "Gold            float64\n",
       "Oil             float64\n",
       "TEDSpread       float64\n",
       "EFFR            float64\n",
       "dtype: object"
      ]
     },
     "execution_count": 60,
     "metadata": {},
     "output_type": "execute_result"
    }
   ],
   "source": [
    "# типы колонок\n",
    "data.dtypes"
   ]
  },
  {
   "cell_type": "code",
   "execution_count": 61,
   "metadata": {},
   "outputs": [],
   "source": [
    "label_enc = LabelEncoder()\n",
    "obj_columns = list(data.columns.values)\n",
    "for obj in obj_columns:\n",
    "    data[obj] = label_enc.fit_transform(data[obj])"
   ]
  },
  {
   "cell_type": "code",
   "execution_count": 62,
   "metadata": {},
   "outputs": [
    {
     "data": {
      "text/plain": [
       "Date            int32\n",
       "LABEL           int64\n",
       "Open            int64\n",
       "High            int64\n",
       "Low             int64\n",
       "Close           int64\n",
       "Volume          int64\n",
       "InterestRate    int64\n",
       "ExchangeRate    int64\n",
       "VIX             int64\n",
       "Gold            int64\n",
       "Oil             int64\n",
       "TEDSpread       int64\n",
       "EFFR            int64\n",
       "dtype: object"
      ]
     },
     "execution_count": 62,
     "metadata": {},
     "output_type": "execute_result"
    }
   ],
   "source": [
    "data.dtypes"
   ]
  },
  {
   "cell_type": "code",
   "execution_count": 63,
   "metadata": {},
   "outputs": [],
   "source": [
    "target=data[\"Open\"]\n",
    "data=data.drop('Open', axis=1)"
   ]
  },
  {
   "cell_type": "markdown",
   "metadata": {},
   "source": [
    "#### Алгоритмы кластеризации\n",
    "\n",
    "#### Используемые метрики качества кластеризации:\n",
    "- Adjusted Rand index\n",
    "- Adjusted Mutual Information\n",
    "- Homogeneity, completeness, V-measure\n",
    "- Коэффициент силуэта\n",
    "\n",
    "#### Метод k-средних\n",
    "###### Заключается в минимизации суммарного квадратичного отклонения точек кластеров от центров этих кластеров"
   ]
  },
  {
   "cell_type": "code",
   "execution_count": 99,
   "metadata": {},
   "outputs": [],
   "source": [
    "from sklearn.cluster import KMeans, MiniBatchKMeans"
   ]
  },
  {
   "cell_type": "code",
   "execution_count": 100,
   "metadata": {},
   "outputs": [
    {
     "name": "stdout",
     "output_type": "stream",
     "text": [
      "Adjusted Rand index               : 2.558822199089306e-05\n",
      "Adjusted Mutual Information       : 0.0007230144786748532\n"
     ]
    },
    {
     "name": "stderr",
     "output_type": "stream",
     "text": [
      "C:\\foruniver\\Anaconda3\\lib\\site-packages\\sklearn\\metrics\\cluster\\supervised.py:732: FutureWarning: The behavior of AMI will change in version 0.22. To match the behavior of 'v_measure_score', AMI will use average_method='arithmetic' by default.\n",
      "  FutureWarning)\n"
     ]
    },
    {
     "name": "stdout",
     "output_type": "stream",
     "text": [
      "Homogeneity,completeness,V-measure: (0.2040085115016781, 0.9999999999999993, 0.3388821749228867)\n",
      "Коэффициент силуэта               : 0.435488288242026\n"
     ]
    }
   ],
   "source": [
    "print('Adjusted Rand index               :', adjusted_rand_score(target, KMeans(n_clusters=5).fit_predict(data)))\n",
    "print('Adjusted Mutual Information       :', adjusted_mutual_info_score(target, KMeans(n_clusters=5).fit_predict(data)))\n",
    "print('Homogeneity,completeness,V-measure:', homogeneity_completeness_v_measure(target, KMeans(n_clusters=5).fit_predict(data)))\n",
    "print('Коэффициент силуэта               :', silhouette_score(data, KMeans(n_clusters=5).fit_predict(data)))"
   ]
  },
  {
   "cell_type": "markdown",
   "metadata": {},
   "source": [
    "#### Иерархическая кластеризация\n",
    "###### Группа методов, включающая агломеративные (объединение мелких кластеров) и дивизивные (разделение крупных кластеров) методы"
   ]
  },
  {
   "cell_type": "code",
   "execution_count": 101,
   "metadata": {},
   "outputs": [],
   "source": [
    "from sklearn.cluster import AgglomerativeClustering"
   ]
  },
  {
   "cell_type": "code",
   "execution_count": 102,
   "metadata": {},
   "outputs": [
    {
     "name": "stdout",
     "output_type": "stream",
     "text": [
      "Adjusted Rand index               : 2.4018548900980078e-05\n"
     ]
    },
    {
     "name": "stderr",
     "output_type": "stream",
     "text": [
      "C:\\foruniver\\Anaconda3\\lib\\site-packages\\sklearn\\metrics\\cluster\\supervised.py:732: FutureWarning: The behavior of AMI will change in version 0.22. To match the behavior of 'v_measure_score', AMI will use average_method='arithmetic' by default.\n",
      "  FutureWarning)\n"
     ]
    },
    {
     "name": "stdout",
     "output_type": "stream",
     "text": [
      "Adjusted Mutual Information       : 0.0007102620157148584\n",
      "Homogeneity,completeness,V-measure: (0.20047132940965978, 0.9999999999999997, 0.3339877004946765)\n",
      "Коэффициент силуэта               : 0.43246951277186163\n"
     ]
    }
   ],
   "source": [
    "print('Adjusted Rand index               :', adjusted_rand_score(target, AgglomerativeClustering(n_clusters=5).fit_predict(data)))\n",
    "print('Adjusted Mutual Information       :', adjusted_mutual_info_score(target, AgglomerativeClustering(n_clusters=5).fit_predict(data)))\n",
    "print('Homogeneity,completeness,V-measure:', homogeneity_completeness_v_measure(target, AgglomerativeClustering(n_clusters=5).fit_predict(data)))\n",
    "print('Коэффициент силуэта               :', silhouette_score(data, AgglomerativeClustering(n_clusters=5).fit_predict(data)))"
   ]
  },
  {
   "cell_type": "markdown",
   "metadata": {},
   "source": [
    "#### Алгоритм BIRCH"
   ]
  },
  {
   "cell_type": "code",
   "execution_count": 103,
   "metadata": {},
   "outputs": [],
   "source": [
    "from sklearn.cluster import Birch"
   ]
  },
  {
   "cell_type": "code",
   "execution_count": 104,
   "metadata": {},
   "outputs": [
    {
     "name": "stdout",
     "output_type": "stream",
     "text": [
      "Adjusted Rand index               : 2.4018548900980078e-05\n"
     ]
    },
    {
     "name": "stderr",
     "output_type": "stream",
     "text": [
      "C:\\foruniver\\Anaconda3\\lib\\site-packages\\sklearn\\metrics\\cluster\\supervised.py:732: FutureWarning: The behavior of AMI will change in version 0.22. To match the behavior of 'v_measure_score', AMI will use average_method='arithmetic' by default.\n",
      "  FutureWarning)\n"
     ]
    },
    {
     "name": "stdout",
     "output_type": "stream",
     "text": [
      "Adjusted Mutual Information       : 0.0007102620157148584\n",
      "Homogeneity,completeness,V-measure: (0.20047132940965978, 0.9999999999999997, 0.3339877004946765)\n",
      "Коэффициент силуэта               : 0.43246951277186163\n"
     ]
    }
   ],
   "source": [
    "print('Adjusted Rand index               :', adjusted_rand_score(target, Birch(n_clusters=5).fit_predict(data)))\n",
    "print('Adjusted Mutual Information       :', adjusted_mutual_info_score(target, Birch(n_clusters=5).fit_predict(data)))\n",
    "print('Homogeneity,completeness,V-measure:', homogeneity_completeness_v_measure(target, Birch(n_clusters=5).fit_predict(data)))\n",
    "print('Коэффициент силуэта               :', silhouette_score(data, Birch(n_clusters=5).fit_predict(data)))"
   ]
  },
  {
   "cell_type": "code",
   "execution_count": null,
   "metadata": {},
   "outputs": [],
   "source": []
  }
 ],
 "metadata": {
  "kernelspec": {
   "display_name": "Python 3",
   "language": "python",
   "name": "python3"
  },
  "language_info": {
   "codemirror_mode": {
    "name": "ipython",
    "version": 3
   },
   "file_extension": ".py",
   "mimetype": "text/x-python",
   "name": "python",
   "nbconvert_exporter": "python",
   "pygments_lexer": "ipython3",
   "version": "3.7.1"
  }
 },
 "nbformat": 4,
 "nbformat_minor": 2
}
